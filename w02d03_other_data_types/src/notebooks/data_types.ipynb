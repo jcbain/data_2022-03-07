{
 "cells": [
  {
   "cell_type": "markdown",
   "id": "2a9f5177-c639-4472-8ab3-a7c4c171157f",
   "metadata": {},
   "source": [
    "# Types of data that are useful to data scientists\n",
    "\n",
    "| Data Type | Example |Uses |\n",
    "| :--------- | :------- | :---- |\n",
    "| text | tweets, scripts, books | sentiment analysis, text generation, other natural language processing |\n",
    "| JSON or XML | parsing APIs | gathering data, trend alalysis, forecasting... |\n",
    "| HTML | web scraping | gathering web based document data, social media contacts... |\n",
    "| images | computer vision | self-driving cars, medical imaging diagnostics |\n",
    "\n",
    "## For today\n",
    "\n",
    "- JSON: `json`\n",
    "- XML: `xml`\n",
    "- HTML: `xml` (`BeautifulSoup` not covered but good to be aware of)\n"
   ]
  },
  {
   "cell_type": "markdown",
   "id": "ed25bc2c-bcb8-463a-8a0b-88e7c8c8b0a1",
   "metadata": {},
   "source": [
    "### But first... a refresher on tabular data\n",
    "**... and a small introduction to reading in `xlsx` files**"
   ]
  },
  {
   "cell_type": "code",
   "execution_count": 1,
   "id": "0aafcd29-fca4-4d5d-ad02-b6753f327e55",
   "metadata": {},
   "outputs": [],
   "source": [
    "import pandas as pd"
   ]
  },
  {
   "cell_type": "code",
   "execution_count": 2,
   "id": "a9154041-481f-49fa-afc1-5613c9a90295",
   "metadata": {},
   "outputs": [],
   "source": [
    "# using pandas to construct a dataframe from an xlsx file\n"
   ]
  },
  {
   "cell_type": "code",
   "execution_count": 3,
   "id": "d7ff01e0-c834-449d-af42-14c2f93f60c7",
   "metadata": {},
   "outputs": [],
   "source": [
    "# what if our file actually has multiple sheets?\n"
   ]
  },
  {
   "cell_type": "code",
   "execution_count": null,
   "id": "d5a694d3-2314-4494-a22d-0a8b9aafbbe4",
   "metadata": {},
   "outputs": [],
   "source": []
  },
  {
   "cell_type": "markdown",
   "id": "80ef08a2-c936-4777-8b6d-8df6c40b947c",
   "metadata": {},
   "source": [
    "# XML and HTML\n",
    "- `html`: hyper text markup language\n",
    "- `xml`: extensible markup language\n",
    "- hierarchical collections of elements\n",
    "- generally consists of an opening tag, content and closing tag\n",
    "\n",
    "Let's look at some HTML: [Wikipedia page for \"Dogs\"](https://en.wikipedia.org/wiki/Dog)\n",
    "\n",
    "\n",
    "Let's look at some XML:\n",
    "\n",
    "```xml\n",
    "<dog>\n",
    "    <name>Pippa</name>\n",
    "    <age>10</age>\n",
    "    <diet>\n",
    "        <fooditem>kibbles</fooditem>\n",
    "        <fooditem>pumpkin</fooditem>\n",
    "    </diet>\n",
    "</dog>\n",
    "```\n",
    "\n",
    "perhaps with attributes\n",
    "\n",
    "```xml\n",
    "<dog name=\"Pippa\" age=\"10\">\n",
    "    <diet>\n",
    "        <fooditem name=\"kibbles\"></fooditem>\n",
    "        <fooditem name=\"pumpkin\"></fooditem>  \n",
    "    </diet>\n",
    "</dog>\n",
    "```"
   ]
  },
  {
   "cell_type": "markdown",
   "id": "dbf44a80-5909-48cc-ba0a-cc1fd426da69",
   "metadata": {},
   "source": [
    "## Demo\n",
    "\n",
    "- data: `olympics.xml`\n",
    "- path: '/src/data/olympics.xml'\n",
    "- description: characteristics of several host countries of the Summer Olympic Games\n",
    "\n",
    "```xml\n",
    "<?xml version=\"1.0\"?>\n",
    "<data>\n",
    "  <country name=\"greece\">\n",
    "    <order>1</order>\n",
    "    <year>1896</year>\n",
    "    <nexthost name=\"france\"></nexthost>\n",
    "  </country>\n",
    "  <country name=\"united states of america\">\n",
    "    <order>3</order>\n",
    "    <year>1904</year>\n",
    "    <previoushost name=\"france\"></previoushost>\n",
    "    <nexthost name=\"england\"></nexthost>\n",
    "  </country>\n",
    "  <country name=\"australia\">\n",
    "    <order>27</order>\n",
    "    <year>2000</year>\n",
    "    <previoushost name=\"united states of america\"></previoushost>\n",
    "    <nexthost name=\"greece\"></nexthost>\n",
    "  </country>\n",
    "</data>\n",
    "```"
   ]
  },
  {
   "cell_type": "code",
   "execution_count": 4,
   "id": "e74077cb-0dd3-4809-815a-7a6960c56476",
   "metadata": {},
   "outputs": [],
   "source": [
    "# read in our data\n"
   ]
  },
  {
   "cell_type": "code",
   "execution_count": 5,
   "id": "3f459e93-8f0c-4701-be19-af05b43df741",
   "metadata": {},
   "outputs": [],
   "source": [
    "# grab the root element of tree\n"
   ]
  },
  {
   "cell_type": "markdown",
   "id": "e029d097-5619-4bbd-a434-eed7a6cec994",
   "metadata": {},
   "source": [
    "we have a handle on the root element. How do we begin exploring?\n",
    "- what's the root element's tag?\n",
    "- does the root element have any attributes? \n",
    "- does the root element contain any children?\n",
    "- can we extend this knowledge?\n",
    "\n",
    "How do we find out more? Check the [docs](https://docs.python.org/3/library/xml.etree.elementtree.html)"
   ]
  },
  {
   "cell_type": "code",
   "execution_count": 6,
   "id": "27a73857-d7f7-4570-9f6f-445a7e7005fe",
   "metadata": {},
   "outputs": [],
   "source": [
    "# explore some of it's features\n"
   ]
  },
  {
   "cell_type": "code",
   "execution_count": null,
   "id": "08a79a81-e498-4458-b01e-dd29fcf11955",
   "metadata": {},
   "outputs": [],
   "source": []
  },
  {
   "cell_type": "markdown",
   "id": "6b2b2464-00a9-4704-a4c3-ad513c0bfbec",
   "metadata": {},
   "source": [
    "How might we go about displaying the attributes of each `country` tag?"
   ]
  },
  {
   "cell_type": "code",
   "execution_count": null,
   "id": "2d03a006-908c-4c5c-b91a-2037a4d4646a",
   "metadata": {},
   "outputs": [],
   "source": []
  },
  {
   "cell_type": "code",
   "execution_count": 7,
   "id": "75995b6f-4585-42ab-af20-ff797e5460e1",
   "metadata": {},
   "outputs": [],
   "source": [
    "# grab the 0th country element\n",
    "\n",
    "\n",
    "# grab the 1th element from the first country and display its content \n"
   ]
  },
  {
   "cell_type": "markdown",
   "id": "2983c73c-7fd2-487d-95bd-f92156a4161d",
   "metadata": {},
   "source": [
    "# JSON\n",
    "\n",
    "**J**ava**S**cript **O**bject **N**otation\n",
    "\n",
    "A data-interchange format that is simple for humans and machines to read and write.\n",
    "\n",
    "Data are stored in structures of key-value pairs.\n",
    "\n",
    "\n",
    "```json\n",
    "{\n",
    "  \"pizza\": [\"veggie\", \"pepperoni\", \"pineapple\", \"mushroom\"],\n",
    "  \"price\": [12.99, 14.00, 11.99, 16.00],\n",
    "  \"averageRating\": [5, 4, 4.5, 4.9]\n",
    "}\n",
    "```\n",
    "\n",
    "or \n",
    "\n",
    "```json\n",
    "{\n",
    "  \"pizza\": {\n",
    "    \"0\":\"veggie\",\n",
    "    \"1\":\"pepperoni\",\n",
    "    \"2\":\"pineapple\",\n",
    "    \"3\":\"mushroom\"\n",
    "  },\n",
    "  \"price\": {\n",
    "    \"0\":12.99,\n",
    "    \"1\":14.0,\n",
    "    \"2\":11.99,\n",
    "    \"3\":16.0\n",
    "  },\n",
    "  \"averageRating\": {\n",
    "    \"0\":5.0,\n",
    "    \"1\":4.0,\n",
    "    \"2\":4.5,\n",
    "    \"3\":4.9\n",
    "  }\n",
    "}\n",
    "```\n"
   ]
  },
  {
   "cell_type": "markdown",
   "id": "e033aeb6-f87c-4505-b4e0-b0ba92c03c53",
   "metadata": {},
   "source": [
    "When our attributes have the same number of items associated with them, parsing them out into a dataframe is rather simple."
   ]
  },
  {
   "cell_type": "code",
   "execution_count": null,
   "id": "dd7ee937-9165-464e-8f21-5940e829a445",
   "metadata": {},
   "outputs": [],
   "source": []
  },
  {
   "cell_type": "markdown",
   "id": "fd5b7144-d1b1-4699-a856-b5e133bbc8b6",
   "metadata": {},
   "source": [
    "## Nested JSON\n",
    "however...\n",
    "\n",
    "data: `content.json`\n",
    "\n",
    "```json\n",
    "\n",
    "{\n",
    "  \"articles\": [\n",
    "    {\n",
    "      \"name\": \"how to program in javascript\",\n",
    "      \"author\": \"prairie\",\n",
    "      \"wordCount\": 1200\n",
    "    },\n",
    "    {\n",
    "      \"name\": \"should you rewrite your application in python?\",\n",
    "      \"author\": \"pippa\",\n",
    "      \"wordCount\": 40000\n",
    "    }\n",
    "  ],\n",
    "  \"blogs\": [\n",
    "    {\n",
    "      \"title\": \"differences between js objects and python dictionaries\",\n",
    "      \"postedBy\": \"jennifer\"\n",
    "    }\n",
    "  ]\n",
    "}\n",
    "```"
   ]
  },
  {
   "cell_type": "code",
   "execution_count": null,
   "id": "84dcfc45-cfed-4353-aaf4-039b1781ea69",
   "metadata": {},
   "outputs": [],
   "source": []
  },
  {
   "cell_type": "markdown",
   "id": "5b676905-ccb1-4738-892b-939881e60a86",
   "metadata": {},
   "source": [
    "In which cases, we have to work a bit more to get our data in a format we find reasonable to work with"
   ]
  },
  {
   "cell_type": "code",
   "execution_count": null,
   "id": "2e98b546-c7df-41f6-b378-1bf457a22b36",
   "metadata": {},
   "outputs": [],
   "source": [
    "\n"
   ]
  },
  {
   "cell_type": "markdown",
   "id": "fe7f9304-cccf-4a84-829f-fd64b88dbb76",
   "metadata": {},
   "source": [
    "Use the `pd.json_normalize` method to mold you data into a dataframe\n",
    "\n",
    "... but looks a little strange"
   ]
  },
  {
   "cell_type": "code",
   "execution_count": null,
   "id": "9172fce3-f042-4273-97cd-c6a58a7312b9",
   "metadata": {},
   "outputs": [],
   "source": []
  },
  {
   "cell_type": "markdown",
   "id": "bd99b582-1fc2-4284-9ac1-768c9729eddb",
   "metadata": {},
   "source": [
    "but conceptually \"articles\" and \"blogs\" are distinct"
   ]
  },
  {
   "cell_type": "code",
   "execution_count": null,
   "id": "e5a6b41b-981d-4510-803d-01c802f2e43f",
   "metadata": {},
   "outputs": [],
   "source": []
  },
  {
   "cell_type": "code",
   "execution_count": null,
   "id": "2fb2abb4-6fcb-4dad-ad69-f11c87e23e6f",
   "metadata": {},
   "outputs": [],
   "source": []
  },
  {
   "cell_type": "code",
   "execution_count": null,
   "id": "8e5f710c-10e6-4ea5-b1ff-494532008ba8",
   "metadata": {},
   "outputs": [],
   "source": []
  },
  {
   "cell_type": "code",
   "execution_count": null,
   "id": "3211d82e-bb89-4b61-8acf-8be4903d7ccf",
   "metadata": {},
   "outputs": [],
   "source": []
  },
  {
   "cell_type": "markdown",
   "id": "532fa826-a277-4307-b8d9-6151dedfa03e",
   "metadata": {},
   "source": [
    "How about complex but uniform structure..."
   ]
  },
  {
   "cell_type": "code",
   "execution_count": 8,
   "id": "d3657ca6-f4ea-468f-ac54-b67cbcc90a65",
   "metadata": {},
   "outputs": [],
   "source": [
    "states = [\n",
    "    {\n",
    "        \"state\": \"Florida\",\n",
    "        \"abbr\": \"FL\",\n",
    "        \"info\": { \"governor\": \"Ron DeSantis\", \"ltGovernor\": \"Jeanette Nunez\"},\n",
    "        \"counties\": [\n",
    "            {\"name\": \"Dade\", \"population\": 12345},\n",
    "            {\"name\": \"Broward\", \"population\": 400000},\n",
    "            {\"name\": \"Palm Beach\", \"population\": 600000}\n",
    "        ]\n",
    "    },\n",
    "        {\n",
    "        \"state\": \"Ohio\",\n",
    "        \"abbr\": \"OH\",\n",
    "        \"info\": { \"governor\": \"Mike DeWine\"},\n",
    "        \"counties\": [\n",
    "            {\"name\": \"Summit\", \"population\": 50324},\n",
    "            {\"name\": \"Cuyahoga\", \"population\": 200000}\n",
    "        ]\n",
    "    }\n",
    "    \n",
    "]"
   ]
  },
  {
   "cell_type": "code",
   "execution_count": null,
   "id": "7deb8538-aba6-4e35-a433-8c77a08c64bd",
   "metadata": {},
   "outputs": [],
   "source": []
  },
  {
   "cell_type": "code",
   "execution_count": null,
   "id": "78b313cd-6030-4fd3-86d8-e8e72c1d41cb",
   "metadata": {},
   "outputs": [],
   "source": []
  },
  {
   "cell_type": "code",
   "execution_count": null,
   "id": "72a3e2ef-f448-433c-981b-0d1c61ae190a",
   "metadata": {},
   "outputs": [],
   "source": []
  }
 ],
 "metadata": {
  "kernelspec": {
   "display_name": "Python 3 (ipykernel)",
   "language": "python",
   "name": "python3"
  },
  "language_info": {
   "codemirror_mode": {
    "name": "ipython",
    "version": 3
   },
   "file_extension": ".py",
   "mimetype": "text/x-python",
   "name": "python",
   "nbconvert_exporter": "python",
   "pygments_lexer": "ipython3",
   "version": "3.8.10"
  }
 },
 "nbformat": 4,
 "nbformat_minor": 5
}
