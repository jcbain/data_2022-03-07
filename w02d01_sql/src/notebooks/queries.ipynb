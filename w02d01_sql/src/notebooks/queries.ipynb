{
 "cells": [
  {
   "cell_type": "markdown",
   "id": "d3eb6289-ad2a-41e0-a00b-03393f5c49d1",
   "metadata": {},
   "source": [
    "# SQL Queries"
   ]
  },
  {
   "cell_type": "code",
   "execution_count": null,
   "id": "72967f6e-68a2-4107-b5de-7d6cacb401cf",
   "metadata": {},
   "outputs": [],
   "source": [
    "import psycopg2\n",
    "import pandas as pd\n",
    "import os\n",
    "\n",
    "import warnings\n",
    "warnings.filterwarnings('ignore')\n"
   ]
  },
  {
   "cell_type": "markdown",
   "id": "411492c9-16ec-4f70-aaad-ea72374aedba",
   "metadata": {},
   "source": [
    "## Establishing a connnection with a database\n",
    "\n",
    "We actually need to establish a connection with our database vendor, in this case PostgreSQL, which will allow us to run queries against our database. Postgres is a bit of software that we need to find and connect to. If this is running locally (as in on our computers then we can use our machine's local IP address and just find the port that postgres is running on).\n",
    "\n",
    "If we are running locally, our connection parameters will look something like the following:\n",
    "\n",
    "```python\n",
    "psycopg2.connect(database=\"databasename\", \n",
    "                 user=\"postgres\", \n",
    "                 password=\"somepassword\",\n",
    "                 host=\"127.0.0.1\",\n",
    "                 port=\"5432\")\n",
    "```\n",
    "\n",
    "However, this information is sensitive and should never be exposed for security purposes. It is for this reason that this notebook is not hard-coding these values in. Instead, we are setting these values as part of the OS environment and reading them in."
   ]
  },
  {
   "cell_type": "code",
   "execution_count": null,
   "id": "a68530ad-ddec-40ef-b761-a431f67b9f2e",
   "metadata": {},
   "outputs": [],
   "source": [
    "dbname = os.environ.get(\"DB_NAME\")\n",
    "dbuser = os.environ.get(\"DB_USER\")\n",
    "dbpass = os.environ.get(\"DB_PASSWORD\")\n",
    "dbhost = os.environ.get(\"DB_HOST\")\n",
    "dbport = os.environ.get(\"DB_PORT\")\n",
    "\n",
    "conn = psycopg2.connect(database=dbname, \n",
    "                        user=dbuser, \n",
    "                        password=dbpass,\n",
    "                        host=dbhost,\n",
    "                        port=dbport)"
   ]
  },
  {
   "cell_type": "markdown",
   "id": "158f3fb1-07ad-4a2e-a4c8-d1e4424e1139",
   "metadata": {},
   "source": [
    "### A sample query using `psycopg2`\n",
    "\n",
    "When establishing and familiarizing yourself with a database, it is always best to perform the *hello, world* of SQL...\n",
    "\n",
    "```sql\n",
    "SELECT * \n",
    "FROM table_name;\n",
    "```"
   ]
  },
  {
   "cell_type": "code",
   "execution_count": null,
   "id": "6133bdb1-4620-4d4a-8fef-f3835935f524",
   "metadata": {},
   "outputs": [],
   "source": [
    "# a cursor just allows us to execute queries against a database connection\n",
    "cur = conn.cursor()\n",
    "cur.execute(\"SELECT * FROM albums;\") \n",
    "results = cur.fetchall()\n",
    "\n",
    "# iterate through the list of tuples\n",
    "for row in results: \n",
    "    print(row)"
   ]
  },
  {
   "cell_type": "markdown",
   "id": "14a59825-ad8e-4415-9c77-8bd508fd15ac",
   "metadata": {},
   "source": [
    "## Passing the connection to `pandas`\n",
    "\n",
    "From here on out in this notebook we are going to pass the query and the connection to `pandas`'s `read_sql_query` method for formatting purposes. DataFrames just make the output a bit cleaner.\n",
    "\n",
    "Let's try it out with the same query."
   ]
  },
  {
   "cell_type": "code",
   "execution_count": null,
   "id": "b1c231a5-4777-4d75-b3e3-448532261e32",
   "metadata": {},
   "outputs": [],
   "source": [
    "pd.read_sql_query(\"SELECT * FROM songs;\", conn)"
   ]
  },
  {
   "cell_type": "markdown",
   "id": "5aecd5c3-14f0-4ad2-ad99-a341fdf58cef",
   "metadata": {},
   "source": [
    "# Our Exercises for Today\n",
    "\n",
    "### 1. List the total number of songs"
   ]
  },
  {
   "cell_type": "code",
   "execution_count": null,
   "id": "9d8569d5-8861-4eb5-a2f2-d978e92a69ac",
   "metadata": {},
   "outputs": [],
   "source": [
    "query = \"\"\"\n",
    "\n",
    "\"\"\"\n",
    "\n",
    "pd.read_sql_query(query, conn)"
   ]
  },
  {
   "cell_type": "markdown",
   "id": "ccf241c7-b671-40ed-821a-d19e1e9c5145",
   "metadata": {},
   "source": [
    "### 2. List the songs with a rating over 9"
   ]
  },
  {
   "cell_type": "code",
   "execution_count": null,
   "id": "5d21a8d3-1617-4519-8e8c-9172960e546a",
   "metadata": {},
   "outputs": [],
   "source": [
    "query = \"\"\"\n",
    "\n",
    "\"\"\"\n",
    "\n",
    "pd.read_sql_query(query, conn)"
   ]
  },
  {
   "cell_type": "markdown",
   "id": "c61fd270-d6b0-4518-a9dc-e94aa31955e8",
   "metadata": {},
   "source": [
    "### 3. List the albums that have genre of \"folk\" arranged alphabetically by artist and then by release date newest to oldest."
   ]
  },
  {
   "cell_type": "code",
   "execution_count": null,
   "id": "cad542f8-daae-4a1e-8223-c51ba219b866",
   "metadata": {},
   "outputs": [],
   "source": [
    "query = \"\"\"\n",
    "\n",
    "\"\"\"\n",
    "\n",
    "pd.read_sql_query(query, conn)"
   ]
  },
  {
   "cell_type": "markdown",
   "id": "285e0f78-0a4c-41fb-88d2-1271f86c4102",
   "metadata": {},
   "source": [
    "### 4. List all of the genres, don't repeat any."
   ]
  },
  {
   "cell_type": "code",
   "execution_count": null,
   "id": "f956348c-c81e-4e52-8246-06791b0174d0",
   "metadata": {},
   "outputs": [],
   "source": [
    "query = \"\"\"\n",
    "\n",
    "\"\"\"\n",
    "\n",
    "pd.read_sql_query(query, conn)"
   ]
  },
  {
   "cell_type": "markdown",
   "id": "c81fc16b-4f01-49f3-b701-bb502d55d20d",
   "metadata": {},
   "source": [
    "## 5. List all of the albums along with their songs."
   ]
  },
  {
   "cell_type": "code",
   "execution_count": null,
   "id": "8a7eafe7-e3a7-4353-ac31-8fd0815780c8",
   "metadata": {},
   "outputs": [],
   "source": [
    "query = \"\"\"\n",
    "\n",
    "\"\"\"\n",
    "\n",
    "pd.read_sql_query(query, conn)"
   ]
  },
  {
   "cell_type": "markdown",
   "id": "1e4f8b22-181c-4dbb-82fd-f7c6e528ed87",
   "metadata": {},
   "source": [
    "## 6. List all of the albums along with how many songs each album has."
   ]
  },
  {
   "cell_type": "code",
   "execution_count": null,
   "id": "dddfe1dc-684c-484b-a1b1-03f5280ebaee",
   "metadata": {},
   "outputs": [],
   "source": [
    "query = \"\"\"\n",
    "\n",
    "\"\"\"\n",
    "\n",
    "pd.read_sql_query(query, conn)"
   ]
  },
  {
   "cell_type": "markdown",
   "id": "42a52537-e610-431d-a18d-5687f735ad45",
   "metadata": {},
   "source": [
    "## 7. List all of the albums with more than 10 songs."
   ]
  },
  {
   "cell_type": "code",
   "execution_count": null,
   "id": "f0d975b4-ee8e-4215-967a-9351fcf04c05",
   "metadata": {},
   "outputs": [],
   "source": [
    "query = \"\"\"\n",
    "\n",
    "\"\"\"\n",
    "\n",
    "pd.read_sql_query(query, conn)"
   ]
  },
  {
   "cell_type": "markdown",
   "id": "ed94382d-7000-4557-bc3a-0ac3bdd48971",
   "metadata": {},
   "source": [
    "## 8. List ALL albums along with their songs"
   ]
  },
  {
   "cell_type": "code",
   "execution_count": null,
   "id": "94ce27fa-081d-4dd1-ac72-2977d14d67a7",
   "metadata": {},
   "outputs": [],
   "source": [
    "query = \"\"\"\n",
    "\n",
    "\"\"\"\n",
    "\n",
    "pd.read_sql_query(query, conn)"
   ]
  },
  {
   "cell_type": "markdown",
   "id": "b25c2a38-7700-444e-9088-940534c9f651",
   "metadata": {},
   "source": [
    "## 9. List albums along with their average song rating."
   ]
  },
  {
   "cell_type": "code",
   "execution_count": null,
   "id": "cb8d1fca-b6b1-40c0-a0e0-91f09fdeb86f",
   "metadata": {},
   "outputs": [],
   "source": [
    "query = \"\"\"\n",
    "\n",
    "\"\"\"\n",
    "\n",
    "pd.read_sql_query(query, conn)"
   ]
  },
  {
   "cell_type": "markdown",
   "id": "5af75888-61b7-4c86-886a-5e0560a8fa71",
   "metadata": {},
   "source": [
    "### BONUS: List albums and songs with ratings higher than their albums average."
   ]
  },
  {
   "cell_type": "code",
   "execution_count": null,
   "id": "68fbf7f9-6f34-4913-92db-cfc751dce125",
   "metadata": {
    "tags": []
   },
   "outputs": [],
   "source": [
    "query = \"\"\"\n",
    "\n",
    "\"\"\"\n",
    "\n",
    "pd.read_sql_query(query, conn)"
   ]
  }
 ],
 "metadata": {
  "kernelspec": {
   "display_name": "Python 3 (ipykernel)",
   "language": "python",
   "name": "python3"
  },
  "language_info": {
   "codemirror_mode": {
    "name": "ipython",
    "version": 3
   },
   "file_extension": ".py",
   "mimetype": "text/x-python",
   "name": "python",
   "nbconvert_exporter": "python",
   "pygments_lexer": "ipython3",
   "version": "3.8.10"
  }
 },
 "nbformat": 4,
 "nbformat_minor": 5
}
